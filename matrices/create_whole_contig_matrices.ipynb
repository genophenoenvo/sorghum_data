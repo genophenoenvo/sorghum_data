{
 "cells": [
  {
   "cell_type": "code",
   "execution_count": 1,
   "metadata": {
    "collapsed": true,
    "ExecuteTime": {
     "end_time": "2023-05-11T18:19:51.301700Z",
     "start_time": "2023-05-11T18:06:56.642560Z"
    }
   },
   "outputs": [
    {
     "name": "stdout",
     "output_type": "stream",
     "text": [
      "CPU times: user 2min 39s, sys: 3min 57s, total: 6min 36s\n",
      "Wall time: 12min 54s\n"
     ]
    }
   ],
   "source": [
    "%%time\n",
    "import sys\n",
    "import polars as pl\n",
    "import numpy as np\n",
    "import pandas as pd\n",
    "\n",
    "file, skiprows = \"../vcf/sorghum.filtered.season4.season6.vcf.gz\", 82\n",
    "vcf = pl.read_csv(file, sep=\"\\t\", skip_rows=skiprows, dtypes={'#CHROM':pl.datatypes.Utf8})\n",
    "\n",
    "contigs = vcf.select([pl.col(\"#CHROM\").unique()])[\"#CHROM\"].to_list()\n",
    "contigs.sort()\n",
    "\n",
    "for contig in contigs:\n",
    "    vcf_w_list = vcf.filter(pl.col(\"#CHROM\") == contig) \\\n",
    "        .select(pl.all().exclude([\"#CHROM\", \"REF\", \"ALT\", \"POS\", \"QUAL\", \"FILTER\", \"INFO\", \"FORMAT\"])) \\\n",
    "        .with_columns(pl.col(\"^PI.*$\").str.replace(\"0\\\\|0\",\"0.0\")) \\\n",
    "        .with_columns(pl.col(\"^PI.*$\").str.replace(\"1\\\\|0\",\"0.5\")) \\\n",
    "        .with_columns(pl.col(\"^PI.*$\").str.replace(\"0\\\\|1\",\"0.5\")) \\\n",
    "        .with_columns(pl.col(\"^PI.*$\").str.replace(\"1\\\\|1\",\"1.0\")) \\\n",
    "        .with_columns(pl.col(\"^PI.*$\").cast(pl.Float32, strict=True)) \\\n",
    "        .select([\"ID\", pl.concat_list(pl.all().exclude(\"ID\").alias('GENOTYPES'))])\n",
    "\n",
    "    pandas_df = vcf_w_list.to_pandas()\n",
    "    pandas_df['matrix'] = pandas_df.apply(lambda row: np.subtract(1,np.abs(np.subtract.outer(row['GENOTYPES'],row['GENOTYPES']))), axis=1)\n",
    "    pandas_df.drop('GENOTYPES', axis=1, inplace=True)\n",
    "    pandas_df.to_pickle(f'{contig}-matrix.pickle')\n"
   ]
  },
  {
   "cell_type": "code",
   "execution_count": 4,
   "outputs": [
    {
     "name": "stdout",
     "output_type": "stream",
     "text": [
      "CPU times: user 10.5 s, sys: 2.95 s, total: 13.4 s\n",
      "Wall time: 13min 40s\n",
      "zsh:1: no matches found: *-matrix.pickle\r\n",
      "CPU times: user 1.15 ms, sys: 5.09 ms, total: 6.24 ms\n",
      "Wall time: 142 ms\n"
     ]
    }
   ],
   "source": [
    "%%time\n",
    "!pigz *-matrix.pickle"
   ],
   "metadata": {
    "collapsed": false
   }
  },
  {
   "cell_type": "code",
   "execution_count": null,
   "outputs": [],
   "source": [],
   "metadata": {
    "collapsed": false
   }
  }
 ],
 "metadata": {
  "kernelspec": {
   "display_name": "Python 3",
   "language": "python",
   "name": "python3"
  },
  "language_info": {
   "codemirror_mode": {
    "name": "ipython",
    "version": 2
   },
   "file_extension": ".py",
   "mimetype": "text/x-python",
   "name": "python",
   "nbconvert_exporter": "python",
   "pygments_lexer": "ipython2",
   "version": "2.7.6"
  }
 },
 "nbformat": 4,
 "nbformat_minor": 0
}
