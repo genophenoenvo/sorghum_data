{
 "cells": [
  {
   "cell_type": "code",
   "execution_count": 3,
   "id": "db8f4e3b",
   "metadata": {},
   "outputs": [
    {
     "name": "stderr",
     "output_type": "stream",
     "text": [
      "<timed exec>:28: DtypeWarning: Columns (0) have mixed types. Specify dtype option on import or set low_memory=False.\n"
     ]
    },
    {
     "ename": "NameError",
     "evalue": "name 'samples' is not defined",
     "output_type": "error",
     "traceback": [
      "\u001B[0;31m---------------------------------------------------------------------------\u001B[0m",
      "\u001B[0;31mNameError\u001B[0m                                 Traceback (most recent call last)",
      "\u001B[0;32m<timed exec>\u001B[0m in \u001B[0;36m<module>\u001B[0;34m\u001B[0m\n",
      "\u001B[0;32m<timed exec>\u001B[0m in \u001B[0;36mgenerate_matrices\u001B[0;34m()\u001B[0m\n",
      "\u001B[0;32m<timed exec>\u001B[0m in \u001B[0;36mexport_matrix\u001B[0;34m(vcf_file, skip_rows)\u001B[0m\n",
      "\u001B[0;32m/opt/homebrew/lib/python3.9/site-packages/pandas/core/frame.py\u001B[0m in \u001B[0;36mapply\u001B[0;34m(self, func, axis, raw, result_type, args, **kwargs)\u001B[0m\n\u001B[1;32m   8843\u001B[0m             \u001B[0mkwargs\u001B[0m\u001B[0;34m=\u001B[0m\u001B[0mkwargs\u001B[0m\u001B[0;34m,\u001B[0m\u001B[0;34m\u001B[0m\u001B[0;34m\u001B[0m\u001B[0m\n\u001B[1;32m   8844\u001B[0m         )\n\u001B[0;32m-> 8845\u001B[0;31m         \u001B[0;32mreturn\u001B[0m \u001B[0mop\u001B[0m\u001B[0;34m.\u001B[0m\u001B[0mapply\u001B[0m\u001B[0;34m(\u001B[0m\u001B[0;34m)\u001B[0m\u001B[0;34m.\u001B[0m\u001B[0m__finalize__\u001B[0m\u001B[0;34m(\u001B[0m\u001B[0mself\u001B[0m\u001B[0;34m,\u001B[0m \u001B[0mmethod\u001B[0m\u001B[0;34m=\u001B[0m\u001B[0;34m\"apply\"\u001B[0m\u001B[0;34m)\u001B[0m\u001B[0;34m\u001B[0m\u001B[0;34m\u001B[0m\u001B[0m\n\u001B[0m\u001B[1;32m   8846\u001B[0m \u001B[0;34m\u001B[0m\u001B[0m\n\u001B[1;32m   8847\u001B[0m     def applymap(\n",
      "\u001B[0;32m/opt/homebrew/lib/python3.9/site-packages/pandas/core/apply.py\u001B[0m in \u001B[0;36mapply\u001B[0;34m(self)\u001B[0m\n\u001B[1;32m    731\u001B[0m             \u001B[0;32mreturn\u001B[0m \u001B[0mself\u001B[0m\u001B[0;34m.\u001B[0m\u001B[0mapply_raw\u001B[0m\u001B[0;34m(\u001B[0m\u001B[0;34m)\u001B[0m\u001B[0;34m\u001B[0m\u001B[0;34m\u001B[0m\u001B[0m\n\u001B[1;32m    732\u001B[0m \u001B[0;34m\u001B[0m\u001B[0m\n\u001B[0;32m--> 733\u001B[0;31m         \u001B[0;32mreturn\u001B[0m \u001B[0mself\u001B[0m\u001B[0;34m.\u001B[0m\u001B[0mapply_standard\u001B[0m\u001B[0;34m(\u001B[0m\u001B[0;34m)\u001B[0m\u001B[0;34m\u001B[0m\u001B[0;34m\u001B[0m\u001B[0m\n\u001B[0m\u001B[1;32m    734\u001B[0m \u001B[0;34m\u001B[0m\u001B[0m\n\u001B[1;32m    735\u001B[0m     \u001B[0;32mdef\u001B[0m \u001B[0magg\u001B[0m\u001B[0;34m(\u001B[0m\u001B[0mself\u001B[0m\u001B[0;34m)\u001B[0m\u001B[0;34m:\u001B[0m\u001B[0;34m\u001B[0m\u001B[0;34m\u001B[0m\u001B[0m\n",
      "\u001B[0;32m/opt/homebrew/lib/python3.9/site-packages/pandas/core/apply.py\u001B[0m in \u001B[0;36mapply_standard\u001B[0;34m(self)\u001B[0m\n\u001B[1;32m    855\u001B[0m \u001B[0;34m\u001B[0m\u001B[0m\n\u001B[1;32m    856\u001B[0m     \u001B[0;32mdef\u001B[0m \u001B[0mapply_standard\u001B[0m\u001B[0;34m(\u001B[0m\u001B[0mself\u001B[0m\u001B[0;34m)\u001B[0m\u001B[0;34m:\u001B[0m\u001B[0;34m\u001B[0m\u001B[0;34m\u001B[0m\u001B[0m\n\u001B[0;32m--> 857\u001B[0;31m         \u001B[0mresults\u001B[0m\u001B[0;34m,\u001B[0m \u001B[0mres_index\u001B[0m \u001B[0;34m=\u001B[0m \u001B[0mself\u001B[0m\u001B[0;34m.\u001B[0m\u001B[0mapply_series_generator\u001B[0m\u001B[0;34m(\u001B[0m\u001B[0;34m)\u001B[0m\u001B[0;34m\u001B[0m\u001B[0;34m\u001B[0m\u001B[0m\n\u001B[0m\u001B[1;32m    858\u001B[0m \u001B[0;34m\u001B[0m\u001B[0m\n\u001B[1;32m    859\u001B[0m         \u001B[0;31m# wrap results\u001B[0m\u001B[0;34m\u001B[0m\u001B[0;34m\u001B[0m\u001B[0m\n",
      "\u001B[0;32m/opt/homebrew/lib/python3.9/site-packages/pandas/core/apply.py\u001B[0m in \u001B[0;36mapply_series_generator\u001B[0;34m(self)\u001B[0m\n\u001B[1;32m    871\u001B[0m             \u001B[0;32mfor\u001B[0m \u001B[0mi\u001B[0m\u001B[0;34m,\u001B[0m \u001B[0mv\u001B[0m \u001B[0;32min\u001B[0m \u001B[0menumerate\u001B[0m\u001B[0;34m(\u001B[0m\u001B[0mseries_gen\u001B[0m\u001B[0;34m)\u001B[0m\u001B[0;34m:\u001B[0m\u001B[0;34m\u001B[0m\u001B[0;34m\u001B[0m\u001B[0m\n\u001B[1;32m    872\u001B[0m                 \u001B[0;31m# ignore SettingWithCopy here in case the user mutates\u001B[0m\u001B[0;34m\u001B[0m\u001B[0;34m\u001B[0m\u001B[0m\n\u001B[0;32m--> 873\u001B[0;31m                 \u001B[0mresults\u001B[0m\u001B[0;34m[\u001B[0m\u001B[0mi\u001B[0m\u001B[0;34m]\u001B[0m \u001B[0;34m=\u001B[0m \u001B[0mself\u001B[0m\u001B[0;34m.\u001B[0m\u001B[0mf\u001B[0m\u001B[0;34m(\u001B[0m\u001B[0mv\u001B[0m\u001B[0;34m)\u001B[0m\u001B[0;34m\u001B[0m\u001B[0;34m\u001B[0m\u001B[0m\n\u001B[0m\u001B[1;32m    874\u001B[0m                 \u001B[0;32mif\u001B[0m \u001B[0misinstance\u001B[0m\u001B[0;34m(\u001B[0m\u001B[0mresults\u001B[0m\u001B[0;34m[\u001B[0m\u001B[0mi\u001B[0m\u001B[0;34m]\u001B[0m\u001B[0;34m,\u001B[0m \u001B[0mABCSeries\u001B[0m\u001B[0;34m)\u001B[0m\u001B[0;34m:\u001B[0m\u001B[0;34m\u001B[0m\u001B[0;34m\u001B[0m\u001B[0m\n\u001B[1;32m    875\u001B[0m                     \u001B[0;31m# If we have a view on v, we need to make a copy because\u001B[0m\u001B[0;34m\u001B[0m\u001B[0;34m\u001B[0m\u001B[0m\n",
      "\u001B[0;32m<timed exec>\u001B[0m in \u001B[0;36mmake_matrix\u001B[0;34m(row)\u001B[0m\n",
      "\u001B[0;31mNameError\u001B[0m: name 'samples' is not defined"
     ]
    }
   ],
   "source": [
    "%%time\n",
    "\n",
    "import pandas as pd\n",
    "import numpy\n",
    "import os\n",
    "import tarfile\n",
    "\n",
    "def genotype_compare(geno_a, geno_b):\n",
    "  (a1, a2) = geno_a.split(\"|\")\n",
    "  (b1, b2) = geno_b.split(\"|\")\n",
    "\n",
    "  if a1 == b1 and a2 == b2:\n",
    "    return 1\n",
    "  elif a1 == b1 or a2 == b2:\n",
    "    return .5\n",
    "  else:\n",
    "    return 0\n",
    "\n",
    "def make_matrix(row, samples):\n",
    "  array = numpy.zeros(shape=[len(samples), len(samples)])\n",
    "  for j, sample_a in enumerate(samples):\n",
    "    for k, sample_b in enumerate(samples):\n",
    "      array[j,k] = genotype_compare(row[sample_a], row[sample_b])\n",
    "  return array\n",
    "\n",
    "\n",
    "def export_matrix(vcf_file, skip_rows):\n",
    "    # todo: handle skiprows?\n",
    "\n",
    "    vcf_df = pd.read_csv(vcf_file, sep=\"\\t\", skiprows=skip_rows, dtype='string')\n",
    "    samples = list(vcf_df.columns)[9:]\n",
    "    vcf_df['matrix'] = vcf_df.apply(make_matrix, axis=1)\n",
    "\n",
    "    vcf_file_base = os.file.basename(vcf_file)\n",
    "\n",
    "    # create tar file\n",
    "    tar = tarfile.open(f\"{vcf_file_base}.row_matrices.tar.gz\")\n",
    "\n",
    "    # Now save the files\n",
    "    for row in range(0,vcf_df.shape[0]):\n",
    "      row_df = pd.DataFrame(vcf_df.iloc[row]['matrix'], columns=samples, index=samples)\n",
    "      id = vcf_df.iloc[row]['ID']\n",
    "      filename = f\"{vcf_file_base}.{id}.matrix.tsv\"\n",
    "      row_df.to_csv(filename, sep=\"\\t\")\n",
    "      tar.add(filename)\n",
    "      os.remove(filename)\n",
    "\n",
    "    tar.close()\n",
    "\n",
    "\n",
    "def generate_matrices():\n",
    "    phenotypes = [\"max_height_cm\", \"max_growth_cm_gdd\"]\n",
    "    pvalues = [\"p0001\", \"p0005\", \"p001\"]\n",
    "\n",
    "    for phenotype in phenotypes:\n",
    "        for pvalue in pvalues:\n",
    "            export_matrix(f\"../vcf/sorghum.filtered.season4.season6.{phenotype}_{pvalue}.vcf.gz\", skip_rows=83)\n",
    "            export_matrix(f\"../vcf/sorghum.filtered.season4.season6.{phenotype}_{pvalue}_qtl.vcf.gz\", skip_rows=84)\n",
    "\n",
    "generate_matrices()"
   ]
  },
  {
   "cell_type": "code",
   "execution_count": null,
   "id": "d2025825",
   "metadata": {},
   "outputs": [],
   "source": []
  }
 ],
 "metadata": {
  "kernelspec": {
   "display_name": "Python 3",
   "language": "python",
   "name": "python3"
  },
  "language_info": {
   "codemirror_mode": {
    "name": "ipython",
    "version": 3
   },
   "file_extension": ".py",
   "mimetype": "text/x-python",
   "name": "python",
   "nbconvert_exporter": "python",
   "pygments_lexer": "ipython3",
   "version": "3.9.13"
  }
 },
 "nbformat": 4,
 "nbformat_minor": 5
}