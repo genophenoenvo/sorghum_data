{
 "cells": [
  {
   "cell_type": "code",
   "execution_count": 14,
   "metadata": {
    "collapsed": true,
    "ExecuteTime": {
     "end_time": "2023-05-11T19:29:16.296841Z",
     "start_time": "2023-05-11T19:28:43.544768Z"
    }
   },
   "outputs": [],
   "source": [
    "import glob\n",
    "\n",
    "import pandas as pd\n",
    "\n",
    "# contig_vcf_files = glob.glob(\"*-matrix.pickle.gz\")\n",
    "\n",
    "def get_row_matrix(df, samples, id):\n",
    "    return pd.DataFrame(df.loc[[id]]['matrix'][0], columns=samples, index=samples)\n",
    "\n",
    "#TODO: url based? or add a download step?\n",
    "vcf_df_head = pd.read_csv(\"../vcf/sorghum.filtered.season4.season6.vcf.gz\", sep=\"\\t\", skiprows=82, dtype='string', nrows=100)\n",
    "samples = list(vcf_df_head.columns)[9:]\n",
    "\n",
    "#TODO: also url based?\n",
    "matrices_df = pd.read_pickle('01-matrix.pickle.gz')\n",
    "matrices_df.set_index(['ID'], inplace=True)\n",
    "\n"
   ]
  },
  {
   "cell_type": "code",
   "execution_count": 22,
   "outputs": [
    {
     "data": {
      "text/plain": "          PI144134  PI145619  PI145626  PI145633  PI146890  PI152591  \\\nPI144134       1.0       0.0       0.0       0.0       0.5       0.0   \nPI145619       0.0       1.0       1.0       1.0       0.5       1.0   \nPI145626       0.0       1.0       1.0       1.0       0.5       1.0   \nPI145633       0.0       1.0       1.0       1.0       0.5       1.0   \nPI146890       0.5       0.5       0.5       0.5       1.0       0.5   \n...            ...       ...       ...       ...       ...       ...   \nPI656015       0.0       1.0       1.0       1.0       0.5       1.0   \nPI656026       0.0       1.0       1.0       1.0       0.5       1.0   \nPI656035       0.0       1.0       1.0       1.0       0.5       1.0   \nPI656065       0.0       1.0       1.0       1.0       0.5       1.0   \nPI92270        0.0       1.0       1.0       1.0       0.5       1.0   \n\n          PI152651  PI152694  PI152727  PI152733  ...  PI651495  PI651497  \\\nPI144134       0.0       0.0       0.0       0.0  ...       0.0       0.0   \nPI145619       1.0       1.0       1.0       1.0  ...       1.0       1.0   \nPI145626       1.0       1.0       1.0       1.0  ...       1.0       1.0   \nPI145633       1.0       1.0       1.0       1.0  ...       1.0       1.0   \nPI146890       0.5       0.5       0.5       0.5  ...       0.5       0.5   \n...            ...       ...       ...       ...  ...       ...       ...   \nPI656015       1.0       1.0       1.0       1.0  ...       1.0       1.0   \nPI656026       1.0       1.0       1.0       1.0  ...       1.0       1.0   \nPI656035       1.0       1.0       1.0       1.0  ...       1.0       1.0   \nPI656065       1.0       1.0       1.0       1.0  ...       1.0       1.0   \nPI92270        1.0       1.0       1.0       1.0  ...       1.0       1.0   \n\n          PI653616  PI653617  PI655978  PI656015  PI656026  PI656035  \\\nPI144134       0.0       0.0       0.5       0.0       0.0       0.0   \nPI145619       1.0       1.0       0.5       1.0       1.0       1.0   \nPI145626       1.0       1.0       0.5       1.0       1.0       1.0   \nPI145633       1.0       1.0       0.5       1.0       1.0       1.0   \nPI146890       0.5       0.5       1.0       0.5       0.5       0.5   \n...            ...       ...       ...       ...       ...       ...   \nPI656015       1.0       1.0       0.5       1.0       1.0       1.0   \nPI656026       1.0       1.0       0.5       1.0       1.0       1.0   \nPI656035       1.0       1.0       0.5       1.0       1.0       1.0   \nPI656065       1.0       1.0       0.5       1.0       1.0       1.0   \nPI92270        1.0       1.0       0.5       1.0       1.0       1.0   \n\n          PI656065  PI92270  \nPI144134       0.0      0.0  \nPI145619       1.0      1.0  \nPI145626       1.0      1.0  \nPI145633       1.0      1.0  \nPI146890       0.5      0.5  \n...            ...      ...  \nPI656015       1.0      1.0  \nPI656026       1.0      1.0  \nPI656035       1.0      1.0  \nPI656065       1.0      1.0  \nPI92270        1.0      1.0  \n\n[274 rows x 274 columns]",
      "text/html": "<div>\n<style scoped>\n    .dataframe tbody tr th:only-of-type {\n        vertical-align: middle;\n    }\n\n    .dataframe tbody tr th {\n        vertical-align: top;\n    }\n\n    .dataframe thead th {\n        text-align: right;\n    }\n</style>\n<table border=\"1\" class=\"dataframe\">\n  <thead>\n    <tr style=\"text-align: right;\">\n      <th></th>\n      <th>PI144134</th>\n      <th>PI145619</th>\n      <th>PI145626</th>\n      <th>PI145633</th>\n      <th>PI146890</th>\n      <th>PI152591</th>\n      <th>PI152651</th>\n      <th>PI152694</th>\n      <th>PI152727</th>\n      <th>PI152733</th>\n      <th>...</th>\n      <th>PI651495</th>\n      <th>PI651497</th>\n      <th>PI653616</th>\n      <th>PI653617</th>\n      <th>PI655978</th>\n      <th>PI656015</th>\n      <th>PI656026</th>\n      <th>PI656035</th>\n      <th>PI656065</th>\n      <th>PI92270</th>\n    </tr>\n  </thead>\n  <tbody>\n    <tr>\n      <th>PI144134</th>\n      <td>1.0</td>\n      <td>0.0</td>\n      <td>0.0</td>\n      <td>0.0</td>\n      <td>0.5</td>\n      <td>0.0</td>\n      <td>0.0</td>\n      <td>0.0</td>\n      <td>0.0</td>\n      <td>0.0</td>\n      <td>...</td>\n      <td>0.0</td>\n      <td>0.0</td>\n      <td>0.0</td>\n      <td>0.0</td>\n      <td>0.5</td>\n      <td>0.0</td>\n      <td>0.0</td>\n      <td>0.0</td>\n      <td>0.0</td>\n      <td>0.0</td>\n    </tr>\n    <tr>\n      <th>PI145619</th>\n      <td>0.0</td>\n      <td>1.0</td>\n      <td>1.0</td>\n      <td>1.0</td>\n      <td>0.5</td>\n      <td>1.0</td>\n      <td>1.0</td>\n      <td>1.0</td>\n      <td>1.0</td>\n      <td>1.0</td>\n      <td>...</td>\n      <td>1.0</td>\n      <td>1.0</td>\n      <td>1.0</td>\n      <td>1.0</td>\n      <td>0.5</td>\n      <td>1.0</td>\n      <td>1.0</td>\n      <td>1.0</td>\n      <td>1.0</td>\n      <td>1.0</td>\n    </tr>\n    <tr>\n      <th>PI145626</th>\n      <td>0.0</td>\n      <td>1.0</td>\n      <td>1.0</td>\n      <td>1.0</td>\n      <td>0.5</td>\n      <td>1.0</td>\n      <td>1.0</td>\n      <td>1.0</td>\n      <td>1.0</td>\n      <td>1.0</td>\n      <td>...</td>\n      <td>1.0</td>\n      <td>1.0</td>\n      <td>1.0</td>\n      <td>1.0</td>\n      <td>0.5</td>\n      <td>1.0</td>\n      <td>1.0</td>\n      <td>1.0</td>\n      <td>1.0</td>\n      <td>1.0</td>\n    </tr>\n    <tr>\n      <th>PI145633</th>\n      <td>0.0</td>\n      <td>1.0</td>\n      <td>1.0</td>\n      <td>1.0</td>\n      <td>0.5</td>\n      <td>1.0</td>\n      <td>1.0</td>\n      <td>1.0</td>\n      <td>1.0</td>\n      <td>1.0</td>\n      <td>...</td>\n      <td>1.0</td>\n      <td>1.0</td>\n      <td>1.0</td>\n      <td>1.0</td>\n      <td>0.5</td>\n      <td>1.0</td>\n      <td>1.0</td>\n      <td>1.0</td>\n      <td>1.0</td>\n      <td>1.0</td>\n    </tr>\n    <tr>\n      <th>PI146890</th>\n      <td>0.5</td>\n      <td>0.5</td>\n      <td>0.5</td>\n      <td>0.5</td>\n      <td>1.0</td>\n      <td>0.5</td>\n      <td>0.5</td>\n      <td>0.5</td>\n      <td>0.5</td>\n      <td>0.5</td>\n      <td>...</td>\n      <td>0.5</td>\n      <td>0.5</td>\n      <td>0.5</td>\n      <td>0.5</td>\n      <td>1.0</td>\n      <td>0.5</td>\n      <td>0.5</td>\n      <td>0.5</td>\n      <td>0.5</td>\n      <td>0.5</td>\n    </tr>\n    <tr>\n      <th>...</th>\n      <td>...</td>\n      <td>...</td>\n      <td>...</td>\n      <td>...</td>\n      <td>...</td>\n      <td>...</td>\n      <td>...</td>\n      <td>...</td>\n      <td>...</td>\n      <td>...</td>\n      <td>...</td>\n      <td>...</td>\n      <td>...</td>\n      <td>...</td>\n      <td>...</td>\n      <td>...</td>\n      <td>...</td>\n      <td>...</td>\n      <td>...</td>\n      <td>...</td>\n      <td>...</td>\n    </tr>\n    <tr>\n      <th>PI656015</th>\n      <td>0.0</td>\n      <td>1.0</td>\n      <td>1.0</td>\n      <td>1.0</td>\n      <td>0.5</td>\n      <td>1.0</td>\n      <td>1.0</td>\n      <td>1.0</td>\n      <td>1.0</td>\n      <td>1.0</td>\n      <td>...</td>\n      <td>1.0</td>\n      <td>1.0</td>\n      <td>1.0</td>\n      <td>1.0</td>\n      <td>0.5</td>\n      <td>1.0</td>\n      <td>1.0</td>\n      <td>1.0</td>\n      <td>1.0</td>\n      <td>1.0</td>\n    </tr>\n    <tr>\n      <th>PI656026</th>\n      <td>0.0</td>\n      <td>1.0</td>\n      <td>1.0</td>\n      <td>1.0</td>\n      <td>0.5</td>\n      <td>1.0</td>\n      <td>1.0</td>\n      <td>1.0</td>\n      <td>1.0</td>\n      <td>1.0</td>\n      <td>...</td>\n      <td>1.0</td>\n      <td>1.0</td>\n      <td>1.0</td>\n      <td>1.0</td>\n      <td>0.5</td>\n      <td>1.0</td>\n      <td>1.0</td>\n      <td>1.0</td>\n      <td>1.0</td>\n      <td>1.0</td>\n    </tr>\n    <tr>\n      <th>PI656035</th>\n      <td>0.0</td>\n      <td>1.0</td>\n      <td>1.0</td>\n      <td>1.0</td>\n      <td>0.5</td>\n      <td>1.0</td>\n      <td>1.0</td>\n      <td>1.0</td>\n      <td>1.0</td>\n      <td>1.0</td>\n      <td>...</td>\n      <td>1.0</td>\n      <td>1.0</td>\n      <td>1.0</td>\n      <td>1.0</td>\n      <td>0.5</td>\n      <td>1.0</td>\n      <td>1.0</td>\n      <td>1.0</td>\n      <td>1.0</td>\n      <td>1.0</td>\n    </tr>\n    <tr>\n      <th>PI656065</th>\n      <td>0.0</td>\n      <td>1.0</td>\n      <td>1.0</td>\n      <td>1.0</td>\n      <td>0.5</td>\n      <td>1.0</td>\n      <td>1.0</td>\n      <td>1.0</td>\n      <td>1.0</td>\n      <td>1.0</td>\n      <td>...</td>\n      <td>1.0</td>\n      <td>1.0</td>\n      <td>1.0</td>\n      <td>1.0</td>\n      <td>0.5</td>\n      <td>1.0</td>\n      <td>1.0</td>\n      <td>1.0</td>\n      <td>1.0</td>\n      <td>1.0</td>\n    </tr>\n    <tr>\n      <th>PI92270</th>\n      <td>0.0</td>\n      <td>1.0</td>\n      <td>1.0</td>\n      <td>1.0</td>\n      <td>0.5</td>\n      <td>1.0</td>\n      <td>1.0</td>\n      <td>1.0</td>\n      <td>1.0</td>\n      <td>1.0</td>\n      <td>...</td>\n      <td>1.0</td>\n      <td>1.0</td>\n      <td>1.0</td>\n      <td>1.0</td>\n      <td>0.5</td>\n      <td>1.0</td>\n      <td>1.0</td>\n      <td>1.0</td>\n      <td>1.0</td>\n      <td>1.0</td>\n    </tr>\n  </tbody>\n</table>\n<p>274 rows × 274 columns</p>\n</div>"
     },
     "execution_count": 22,
     "metadata": {},
     "output_type": "execute_result"
    }
   ],
   "source": [
    "\n",
    "get_row_matrix(matrices_df, samples, \"S01_1345\")"
   ],
   "metadata": {
    "collapsed": false,
    "ExecuteTime": {
     "end_time": "2023-05-11T19:33:38.405524Z",
     "start_time": "2023-05-11T19:33:38.383965Z"
    }
   }
  },
  {
   "cell_type": "code",
   "execution_count": 33,
   "outputs": [
    {
     "name": "stdout",
     "output_type": "stream",
     "text": [
      "CPU times: user 20.6 s, sys: 133 ms, total: 20.7 s\n",
      "Wall time: 20.7 s\n"
     ]
    }
   ],
   "source": [
    "%%time\n",
    "for id in list(matrices_df.index):\n",
    "    get_row_matrix(matrices_df, samples, id)"
   ],
   "metadata": {
    "collapsed": false,
    "ExecuteTime": {
     "end_time": "2023-05-11T19:40:24.437758Z",
     "start_time": "2023-05-11T19:40:04.357201Z"
    }
   }
  },
  {
   "cell_type": "code",
   "execution_count": null,
   "outputs": [],
   "source": [],
   "metadata": {
    "collapsed": false
   }
  },
  {
   "cell_type": "code",
   "execution_count": null,
   "outputs": [],
   "source": [],
   "metadata": {
    "collapsed": false
   }
  }
 ],
 "metadata": {
  "kernelspec": {
   "display_name": "Python 3",
   "language": "python",
   "name": "python3"
  },
  "language_info": {
   "codemirror_mode": {
    "name": "ipython",
    "version": 2
   },
   "file_extension": ".py",
   "mimetype": "text/x-python",
   "name": "python",
   "nbconvert_exporter": "python",
   "pygments_lexer": "ipython2",
   "version": "2.7.6"
  }
 },
 "nbformat": 4,
 "nbformat_minor": 0
}
